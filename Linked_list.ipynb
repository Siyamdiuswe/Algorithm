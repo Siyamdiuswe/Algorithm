{
 "cells": [
  {
   "cell_type": "code",
   "execution_count": 2,
   "metadata": {},
   "outputs": [],
   "source": [
    "class node:\n",
    "    def __init__(self,data):\n",
    "        self.data = data\n",
    "        self.next = None;"
   ]
  },
  {
   "cell_type": "code",
   "execution_count": 4,
   "metadata": {},
   "outputs": [],
   "source": [
    "class LinkedList:\n",
    "    def __init__(self):\n",
    "        self.start = None;\n",
    "        \n",
    "    def viewList(self):\n",
    "        if self.start == None:\n",
    "            print(\"List is empty\")\n",
    "        else:\n",
    "            temp= self.start\n",
    "            while temp!=None:\n",
    "                print(temp.data,end = ' ')\n",
    "                temp = temp.next\n",
    "        \n",
    "    def deleteFirst(self):\n",
    "        if self.start==None:\n",
    "            print(\"List is empty\")\n",
    "        else:\n",
    "            self.start = self.start.next\n",
    "\n",
    "    def insertLast(self,value):\n",
    "        newNode= node(value)\n",
    "        if(self.start==None):\n",
    "            self.start = newNode;\n",
    "        else:\n",
    "            temp = self.start\n",
    "            while temp.next!=None:\n",
    "                temp = temp.next\n",
    "            temp.next = newNode"
   ]
  },
  {
   "cell_type": "code",
   "execution_count": 5,
   "metadata": {},
   "outputs": [
    {
     "name": "stdout",
     "output_type": "stream",
     "text": [
      "20 30 40 50 60 "
     ]
    }
   ],
   "source": [
    "mylist = LinkedList()\n",
    "mylist.insertLast(20)\n",
    "mylist.insertLast(30)\n",
    "mylist.insertLast(40)\n",
    "mylist.insertLast(50)\n",
    "mylist.insertLast(60)\n",
    "mylist.viewList()"
   ]
  },
  {
   "cell_type": "code",
   "execution_count": null,
   "metadata": {},
   "outputs": [],
   "source": []
  }
 ],
 "metadata": {
  "kernelspec": {
   "display_name": "Python 3",
   "language": "python",
   "name": "python3"
  },
  "language_info": {
   "codemirror_mode": {
    "name": "ipython",
    "version": 3
   },
   "file_extension": ".py",
   "mimetype": "text/x-python",
   "name": "python",
   "nbconvert_exporter": "python",
   "pygments_lexer": "ipython3",
   "version": "3.7.3"
  }
 },
 "nbformat": 4,
 "nbformat_minor": 2
}
